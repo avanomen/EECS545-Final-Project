{
 "cells": [
  {
   "cell_type": "code",
   "execution_count": 1,
   "id": "f9d4dfc2",
   "metadata": {},
   "outputs": [],
   "source": [
    "import pandas as pd\n",
    "import os\n",
    "import numpy as np\n",
    "from math import e"
   ]
  },
  {
   "cell_type": "code",
   "execution_count": null,
   "id": "f860cd6c",
   "metadata": {},
   "outputs": [],
   "source": [
    "# load higgs boson dataset\n",
    "higgs_dir = r'F:\\Google Drive\\umich\\eecs545_machine_learning\\final_project\\HIGGS'\n",
    "higgs_df = pd.read_csv(os.path.join(higgs_dir, 'HIGGS.csv'))"
   ]
  },
  {
   "cell_type": "code",
   "execution_count": null,
   "id": "09820a6a",
   "metadata": {},
   "outputs": [],
   "source": [
    "Y = higgs_df.iloc[:,0]\n",
    "X = higgs_df.iloc[:,-7:]\n",
    "n = higgs_df.shape[0]\n",
    "print('total num: {}'.format(n))\n",
    "test_n = 500000\n",
    "train_n = 50000\n",
    "\n",
    "x_train_df = X.iloc[0:train_n,:]\n",
    "y_train_df = Y.iloc[0:train_n]\n",
    "print(x_train_df.shape)\n",
    "print(y_train_df.shape)\n",
    "x_test_df = X.iloc[-test_n:, :]\n",
    "y_test_df = Y.iloc[-test_n:]"
   ]
  },
  {
   "cell_type": "code",
   "execution_count": null,
   "id": "fb22bf1d",
   "metadata": {},
   "outputs": [],
   "source": [
    "# import XGBoost classifier\n",
    "import xgboost"
   ]
  },
  {
   "cell_type": "code",
   "execution_count": null,
   "id": "7f8d9ed8",
   "metadata": {
    "scrolled": true
   },
   "outputs": [],
   "source": [
    "%%time \n",
    "from IPython.core.debugger import set_trace\n",
    "model_higgs = xgboost.XGBoostClassifier()\n",
    "model_higgs.fit(x_train_df, y_train_df, min_leaf=200, boosting_rounds=15, subsample_cols=0.7, min_child_weight=1.2, depth=5)\n"
   ]
  },
  {
   "cell_type": "code",
   "execution_count": null,
   "id": "2d4f39c3",
   "metadata": {},
   "outputs": [],
   "source": [
    "pred = model_higgs.predict(x_test_df)\n",
    "acc = np.sum(pred == y_test_df.values)/len(pred)\n",
    "print('accuracy = {}'.format(acc))"
   ]
  },
  {
   "cell_type": "code",
   "execution_count": null,
   "id": "98d48cb8",
   "metadata": {},
   "outputs": [],
   "source": [
    "acc = np.sum(pred == y_test_df.values)/len(pred)\n",
    "print('accuracy = {}'.format(acc))\n",
    "# 50000 samples, exact greedy, Wall time: 14h 8min 19s, accuracy = 0.695598"
   ]
  },
  {
   "cell_type": "code",
   "execution_count": null,
   "id": "ee97a747",
   "metadata": {},
   "outputs": [],
   "source": [
    "int(np.floor(6.6))"
   ]
  }
 ],
 "metadata": {
  "kernelspec": {
   "display_name": "Python 3",
   "language": "python",
   "name": "python3"
  },
  "language_info": {
   "codemirror_mode": {
    "name": "ipython",
    "version": 3
   },
   "file_extension": ".py",
   "mimetype": "text/x-python",
   "name": "python",
   "nbconvert_exporter": "python",
   "pygments_lexer": "ipython3",
   "version": "3.8.8"
  }
 },
 "nbformat": 4,
 "nbformat_minor": 5
}
