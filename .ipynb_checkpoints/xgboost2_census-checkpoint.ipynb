{
 "cells": [
  {
   "cell_type": "code",
   "execution_count": 109,
   "id": "830782c7",
   "metadata": {},
   "outputs": [],
   "source": [
    "import pandas as pd\n",
    "import numpy as np\n",
    "from sklearn.model_selection import train_test_split\n",
    "import matplotlib.pylab as pl\n",
    "import os\n",
    "\n",
    "from sklearn.model_selection import cross_val_score, GridSearchCV\n",
    "from sklearn.preprocessing import StandardScaler, MinMaxScaler, LabelEncoder, OneHotEncoder\n",
    "from sklearn.metrics import f1_score, roc_auc_score, accuracy_score\n",
    "\n",
    "# set rand seed\n",
    "np.random.seed(1)"
   ]
  },
  {
   "cell_type": "code",
   "execution_count": 110,
   "id": "425087dc",
   "metadata": {},
   "outputs": [],
   "source": [
    "# old, use new preprocessing\n",
    "\n",
    "# # preprocess data\n",
    "\n",
    "# # remove incomplete samples\n",
    "# df[df=='?']=np.nan  # replace ? with nan\n",
    "# n_rows = len(df)\n",
    "# df=df.dropna(axis=0) # drop any rows with nan values\n",
    "# n_dropped = n_rows - len(df)\n",
    "# print('dropped {} rows out of {}'.format(n_dropped, n_rows))\n",
    "\n",
    "# # set classification column to binary\n",
    "# df['income'].replace({'<=50K':0,'>50K':1},inplace=True)\n",
    "\n",
    "# df = df.drop('education.num',axis=1) # remove education num column, since redundant\n",
    "# df = df.drop('fnlwgt', axis=1) # shown to have negative correlation \n",
    "# df.shape\n",
    "\n",
    "# # encode categorical features with label encoding, not one-hot encoding\n",
    "# cat_features = ['workclass', 'education', 'marital.status', 'occupation', 'relationship', 'race', 'sex', 'native.country']\n",
    "# for feature in cat_features:\n",
    "#     labelencoder = LabelEncoder()\n",
    "#     df[feature] = labelencoder.fit_transform(df[feature])\n",
    "# df\n",
    "\n",
    "# randomly generate train and test sets\n",
    "\n",
    "\n",
    "# x_df = df.drop(['income'], axis=1)\n",
    "# y_df = df['income']\n",
    "\n",
    "# data_train, data_test, labels_train, labels_test = train_test_split(x_df.values, y_df.values, test_size=0.2, random_state=1)"
   ]
  },
  {
   "cell_type": "code",
   "execution_count": 111,
   "id": "152dc63f",
   "metadata": {},
   "outputs": [
    {
     "name": "stdout",
     "output_type": "stream",
     "text": [
      "(26048, 14)\n",
      "(26048, 3)\n",
      "Index(['Unnamed: 0', 'id', 'income'], dtype='object')\n"
     ]
    }
   ],
   "source": [
    "# import dataframes\n",
    "X_train = pd.read_csv('./data/X_train_adult.csv')\n",
    "X_test = pd.read_csv('./data/X_test_adult.csv')\n",
    "y_train = pd.read_csv('./data/y_train_adult.csv')\n",
    "y_test = pd.read_csv('./data/y_test_adult.csv')\n",
    "\n",
    "print(X_train.shape)\n",
    "print(y_train.values.shape)\n",
    "print(y_train.columns)"
   ]
  },
  {
   "cell_type": "code",
   "execution_count": 112,
   "id": "d1c5cb32",
   "metadata": {},
   "outputs": [],
   "source": [
    "# optimal boosting parameters found using optina:\n",
    "parameters = {\n",
    "    'reg': 0.014,\n",
    "    'gamma': 0.519,\n",
    "    'feature_sel': 0.7,\n",
    "    'max_depth': 7,\n",
    "    'min_child_weight': 2.944,\n",
    "    'min_num_leaf': 13,\n",
    "    'boosting_rounds': 3,\n",
    "    'lr': 0.2898\n",
    "}\n",
    "train_num = 10000"
   ]
  },
  {
   "cell_type": "code",
   "execution_count": 113,
   "id": "4a6361a7",
   "metadata": {},
   "outputs": [
    {
     "name": "stdout",
     "output_type": "stream",
     "text": [
      "boosting round 0\n",
      "boosting round 1\n",
      "boosting round 0\n",
      "boosting round 1\n",
      "boosting round 2\n",
      "boosting round 3\n",
      "boosting round 0\n",
      "boosting round 1\n",
      "boosting round 2\n",
      "boosting round 3\n",
      "boosting round 4\n",
      "boosting round 5\n",
      "boosting round 0\n",
      "boosting round 1\n",
      "boosting round 2\n",
      "boosting round 3\n",
      "boosting round 4\n",
      "boosting round 5\n",
      "boosting round 6\n",
      "boosting round 7\n",
      "boosting round 0\n",
      "boosting round 1\n",
      "boosting round 2\n",
      "boosting round 3\n",
      "boosting round 4\n",
      "boosting round 5\n",
      "boosting round 6\n",
      "boosting round 7\n",
      "boosting round 8\n",
      "boosting round 9\n",
      "[0.80147398 0.80869031 0.80654076 0.81053278 0.81160755]\n",
      "Wall time: 48min 27s\n"
     ]
    }
   ],
   "source": [
    "%%time\n",
    "boost_num = [2, 4, 6, 8, 10]\n",
    "acc_boost_num = np.zeros(len(boost_num))\n",
    "\n",
    "for idx, each in enumerate(boost_num):\n",
    "    model_br = xgboost2.XGBoostClassifier()\n",
    "    model_br.fit(X_train.values[:train_num,:], y_train['income'].values[:train_num],\n",
    "                 reg = parameters['reg'],\n",
    "                 gamma = parameters['gamma'],\n",
    "                 feature_sel = parameters['feature_sel'],\n",
    "                 max_depth = parameters['max_depth'],\n",
    "                 min_child_weight = parameters['min_child_weight'],\n",
    "                 min_num_leaf = parameters['min_num_leaf'],\n",
    "                 boosting_rounds = each,\n",
    "                 lr = parameters['lr'])\n",
    "    pred = model_br.predict(X_test.values)\n",
    "    acc_boost_num[idx] = np.sum(pred == y_test['income'].values)/len(pred)\n",
    "    \n",
    "print(acc_boost_num)"
   ]
  },
  {
   "cell_type": "code",
   "execution_count": 114,
   "id": "2de042fa",
   "metadata": {},
   "outputs": [
    {
     "data": {
      "image/png": "[encoded data removed]",
      "text/plain": [
       "<Figure size 432x288 with 1 Axes>"
      ]
     },
     "metadata": {
      "needs_background": "light"
     },
     "output_type": "display_data"
    }
   ],
   "source": [
    "import matplotlib.pyplot as plt\n",
    "plt.plot([2, 4, 6, 8, 10], acc_boost_num)\n",
    "plt.show()"
   ]
  },
  {
   "cell_type": "code",
   "execution_count": 115,
   "id": "3701ea47",
   "metadata": {},
   "outputs": [
    {
     "name": "stdout",
     "output_type": "stream",
     "text": [
      "boosting round 0\n",
      "boosting round 1\n",
      "boosting round 2\n",
      "boosting round 0\n",
      "boosting round 1\n",
      "boosting round 2\n",
      "boosting round 0\n",
      "boosting round 1\n",
      "boosting round 2\n",
      "boosting round 0\n",
      "boosting round 1\n",
      "boosting round 2\n",
      "boosting round 0\n",
      "boosting round 1\n",
      "boosting round 2\n",
      "[0.72639337 0.79871027 0.80869031 0.80776908 0.80792262]\n",
      "Wall time: 20min 48s\n"
     ]
    }
   ],
   "source": [
    "%%time\n",
    "max_depth = [1, 5, 9, 13, 17]\n",
    "acc_max_depth = np.zeros(len(max_depth))\n",
    "\n",
    "for idx, each in enumerate(max_depth):\n",
    "    model_br = xgboost2.XGBoostClassifier()\n",
    "    model_br.fit(X_train.values[:train_num,:], y_train['income'].values[:train_num],\n",
    "                 reg = parameters['reg'],\n",
    "                 gamma = parameters['gamma'],\n",
    "                 feature_sel = parameters['feature_sel'],\n",
    "                 max_depth = each,\n",
    "                 min_child_weight = parameters['min_child_weight'],\n",
    "                 min_num_leaf = parameters['min_num_leaf'],\n",
    "                 boosting_rounds = parameters['boosting_rounds'],\n",
    "                 lr = parameters['lr'])\n",
    "    pred = model_br.predict(X_test.values)\n",
    "    acc_max_depth[idx] = np.sum(pred == y_test['income'].values)/len(pred)\n",
    "    \n",
    "print(acc_max_depth)"
   ]
  },
  {
   "cell_type": "code",
   "execution_count": 117,
   "id": "9c9b70ab",
   "metadata": {},
   "outputs": [
    {
     "data": {
      "image/png": "[encoded data removed]",
      "text/plain": [
       "<Figure size 432x288 with 1 Axes>"
      ]
     },
     "metadata": {
      "needs_background": "light"
     },
     "output_type": "display_data"
    }
   ],
   "source": [
    "import matplotlib.pyplot as plt\n",
    "plt.plot(max_depth, acc_max_depth)\n",
    "plt.show()"
   ]
  },
  {
   "cell_type": "code",
   "execution_count": null,
   "id": "141ef98d",
   "metadata": {},
   "outputs": [
    {
     "name": "stdout",
     "output_type": "stream",
     "text": [
      "boosting round 0\n",
      "boosting round 1\n",
      "boosting round 2\n",
      "boosting round 0\n",
      "boosting round 1\n"
     ]
    }
   ],
   "source": [
    "%%time\n",
    "leaf_num = [1, 5, 10, 15, 20, 25]\n",
    "acc_leaf_num = np.zeros(len(leaf_num))\n",
    "\n",
    "for idx, each in enumerate(leaf_num):\n",
    "    model_lf = xgboost2.XGBoostClassifier()\n",
    "    model_lf.fit(X_train.values[:train_num,:], y_train['income'].values[:train_num],\n",
    "                 reg = parameters['reg'],\n",
    "                 gamma = parameters['gamma'],\n",
    "                 feature_sel = parameters['feature_sel'],\n",
    "                 max_depth = parameters['max_depth'],\n",
    "                 min_child_weight = parameters['min_child_weight'],\n",
    "                 min_num_leaf = each,\n",
    "                 boosting_rounds = parameters['boosting_rounds'],\n",
    "                 lr = parameters['lr'])\n",
    "    pred = model_lf.predict(X_test.values)\n",
    "    acc_leaf_num[idx] = np.sum(pred == y_test['income'].values)/len(pred)\n",
    "    \n",
    "print(acc_leaf_num)"
   ]
  },
  {
   "cell_type": "code",
   "execution_count": null,
   "id": "52a9cbfd",
   "metadata": {},
   "outputs": [],
   "source": [
    "import matplotlib.pyplot as plt\n",
    "plt.plot(leaf_num, acc_leaf_num)\n",
    "plt.show()"
   ]
  },
  {
   "cell_type": "code",
   "execution_count": null,
   "id": "d87da1f4",
   "metadata": {},
   "outputs": [],
   "source": [
    "%%time\n",
    "min_child_weight_range = [1, 5, 10, 15, 20, 25]\n",
    "acc_min_child_weight = np.zeros(len(leaf_num))\n",
    "\n",
    "for idx, each in enumerate(min_child_weight_range):\n",
    "    model_mcw = xgboost2.XGBoostClassifier()\n",
    "    model_mcw.fit(X_train.values[:train_num,:], y_train['income'].values[:train_num],\n",
    "                 reg = parameters['reg'],\n",
    "                 gamma = parameters['gamma'],\n",
    "                 feature_sel = parameters['feature_sel'],\n",
    "                 max_depth = parameters['max_depth'],\n",
    "                 min_child_weight = each,\n",
    "                 min_num_leaf = parameters['min_num_leaf'],\n",
    "                 boosting_rounds = parameters['boosting_rounds'],\n",
    "                 lr = parameters['lr'])\n",
    "    pred = model_mcw.predict(X_test.values)\n",
    "    acc_min_child_weight[idx] = np.sum(pred == y_test['income'].values)/len(pred)\n",
    "    \n",
    "print(acc_min_child_weight)"
   ]
  },
  {
   "cell_type": "code",
   "execution_count": null,
   "id": "dd29a422",
   "metadata": {},
   "outputs": [],
   "source": [
    "import matplotlib.pyplot as plt\n",
    "plt.plot(min_child_weight_range, acc_min_child_weight)\n",
    "plt.show()"
   ]
  },
  {
   "cell_type": "markdown",
   "id": "d256531c",
   "metadata": {},
   "source": [
    "\n",
    "model = xgboost2.XGBoostClassifier()\n",
    "start = time.time()\n",
    "model.fit(X_train.values, y_train['income'].values, min_num_leaf=5, boosting_rounds=5, max_depth=10, lr=0.8, reg=1.2)\n",
    "end = time.time()\n",
    "print('training time: {} min'.format((end-start)/60) )"
   ]
  },
  {
   "cell_type": "code",
   "execution_count": 93,
   "id": "231b38dd",
   "metadata": {},
   "outputs": [
    {
     "name": "stdout",
     "output_type": "stream",
     "text": [
      "accuracy = 0.820205742361431\n",
      "f1_score: 0.6871493454448304\n"
     ]
    }
   ],
   "source": [
    "pred = model.predict(X_test.values)\n",
    "acc = np.sum(pred == y_test['income'].values)/len(pred)\n",
    "print('accuracy = {}'.format(acc))\n",
    "\n",
    "f1_score = sklearn.metrics.f1_score(y_test['income'].values, pred)\n",
    "print('f1_score: {}'.format(f1_score))"
   ]
  }
 ],
 "metadata": {
  "kernelspec": {
   "display_name": "Python 3",
   "language": "python",
   "name": "python3"
  },
  "language_info": {
   "codemirror_mode": {
    "name": "ipython",
    "version": 3
   },
   "file_extension": ".py",
   "mimetype": "text/x-python",
   "name": "python",
   "nbconvert_exporter": "python",
   "pygments_lexer": "ipython3",
   "version": "3.8.8"
  }
 },
 "nbformat": 4,
 "nbformat_minor": 5
}
