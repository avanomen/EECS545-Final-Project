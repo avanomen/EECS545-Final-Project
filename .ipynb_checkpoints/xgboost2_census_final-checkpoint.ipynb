{
 "cells": [
  {
   "cell_type": "code",
   "execution_count": 1,
   "id": "e271addb",
   "metadata": {},
   "outputs": [],
   "source": [
    "import pandas as pd\n",
    "import numpy as np\n",
    "import xgboost2"
   ]
  },
  {
   "cell_type": "code",
   "execution_count": 3,
   "id": "14f13aca",
   "metadata": {},
   "outputs": [
    {
     "name": "stdout",
     "output_type": "stream",
     "text": [
      "(26048, 14)\n",
      "(6513, 14)\n"
     ]
    }
   ],
   "source": [
    "# import dataframes\n",
    "X_train = pd.read_csv('./data/X_train_adult.csv')\n",
    "X_test = pd.read_csv('./data/X_test_adult.csv')\n",
    "y_train = pd.read_csv('./data/y_train_adult.csv')\n",
    "y_test = pd.read_csv('./data/y_test_adult.csv')\n",
    "\n",
    "print(X_train.shape)\n",
    "print(X_test.shape)"
   ]
  },
  {
   "cell_type": "code",
   "execution_count": null,
   "id": "46b0539f",
   "metadata": {},
   "outputs": [],
   "source": [
    "model = xgboost2.XGBoostClassifier()\n",
    "model.fit(X_train.values, y_train['income'].values,\n",
    "          boosting_rounds=boosting_rounds, \n",
    "          feature_sel=0.7, \n",
    "          min_num_leaf=3, \n",
    "          min_child_weight=1.16, \n",
    "          max_depth=max_depth, \n",
    "          lr=lr, \n",
    "          reg=0.17, \n",
    "          gamma=2.71)"
   ]
  }
 ],
 "metadata": {
  "kernelspec": {
   "display_name": "Python 3",
   "language": "python",
   "name": "python3"
  },
  "language_info": {
   "codemirror_mode": {
    "name": "ipython",
    "version": 3
   },
   "file_extension": ".py",
   "mimetype": "text/x-python",
   "name": "python",
   "nbconvert_exporter": "python",
   "pygments_lexer": "ipython3",
   "version": "3.8.8"
  }
 },
 "nbformat": 4,
 "nbformat_minor": 5
}
