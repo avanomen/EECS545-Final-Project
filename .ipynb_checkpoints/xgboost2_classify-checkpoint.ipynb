{
 "cells": [
  {
   "cell_type": "code",
   "execution_count": 1,
   "id": "013e7157",
   "metadata": {},
   "outputs": [],
   "source": [
    "import pandas as pd\n",
    "import os\n",
    "import numpy as np\n",
    "import time\n",
    "\n",
    "# set rand seed\n",
    "np.random.seed(1)"
   ]
  },
  {
   "cell_type": "code",
   "execution_count": 2,
   "id": "5e319dcd",
   "metadata": {},
   "outputs": [
    {
     "name": "stdout",
     "output_type": "stream",
     "text": [
      "loading dataset...\n"
     ]
    }
   ],
   "source": [
    "# load higgs boson dataset\n",
    "print('loading dataset...')\n",
    "higgs_dir = r'F:\\Google Drive\\umich\\eecs545_machine_learning\\final_project\\HIGGS'\n",
    "higgs_df = pd.read_csv(os.path.join(higgs_dir, 'HIGGS.csv'))"
   ]
  },
  {
   "cell_type": "code",
   "execution_count": 3,
   "id": "a18bcbf8",
   "metadata": {},
   "outputs": [
    {
     "name": "stdout",
     "output_type": "stream",
     "text": [
      "total num: 10999999\n",
      "(1000, 7)\n",
      "(1000,)\n"
     ]
    }
   ],
   "source": [
    "Y = higgs_df.iloc[:,0]\n",
    "X = higgs_df.iloc[:,-7:]  # just use high level features\n",
    "n = higgs_df.shape[0]\n",
    "print('total num: {}'.format(n))\n",
    "test_n = 500000\n",
    "train_n = 1000\n",
    "\n",
    "x_train_df = X.iloc[0:train_n,:]\n",
    "y_train_df = Y.iloc[0:train_n]\n",
    "print(x_train_df.shape)\n",
    "print(y_train_df.shape)\n",
    "x_test_df = X.iloc[-test_n:, :]\n",
    "y_test_df = Y.iloc[-test_n:]"
   ]
  },
  {
   "cell_type": "code",
   "execution_count": 4,
   "id": "b0b444e1",
   "metadata": {},
   "outputs": [
    {
     "name": "stdout",
     "output_type": "stream",
     "text": [
      "boosting round 0\n",
      "boosting round 1\n",
      "boosting round 2\n",
      "boosting round 3\n",
      "boosting round 4\n",
      "original model time: 71.60137271881104\n",
      "accuracy = 0.645382\n"
     ]
    }
   ],
   "source": [
    "import xgboost\n",
    "\n",
    "model_higgs = xgboost.XGBoostClassifier()\n",
    "start = time.time()\n",
    "model_higgs.fit(x_train_df, y_train_df, min_leaf=5, boosting_rounds=5, depth=5)\n",
    "end = time.time()\n",
    "print('original model time: {}'.format(end-start))\n",
    "\n",
    "pred = model_higgs.predict(x_test_df)\n",
    "acc = np.sum(pred == y_test_df.values)/len(pred)\n",
    "print('accuracy = {}'.format(acc))"
   ]
  },
  {
   "cell_type": "code",
   "execution_count": 6,
   "id": "790d2793",
   "metadata": {},
   "outputs": [
    {
     "name": "stdout",
     "output_type": "stream",
     "text": [
      "boosting round 0\n",
      "boosting round 1\n",
      "boosting round 2\n",
      "boosting round 3\n",
      "boosting round 4\n",
      "our model time: 7.39473295211792\n"
     ]
    }
   ],
   "source": [
    "import xgboost2\n",
    "\n",
    "model_higgs2 = xgboost2.XGBoostClassifier()\n",
    "start = time.time()\n",
    "model_higgs2.fit(x_train_df.values, y_train_df.values, min_num_leaf=5, boosting_rounds=5, max_depth=5)\n",
    "end = time.time()\n",
    "print('our model time: {}'.format(end-start))"
   ]
  },
  {
   "cell_type": "code",
   "execution_count": null,
   "id": "6196a368",
   "metadata": {},
   "outputs": [],
   "source": [
    "pred = model_higgs2.predict(x_test_df.values)\n",
    "acc = np.sum(pred == y_test_df.values)/len(pred)\n",
    "print('accuracy = {}'.format(acc))"
   ]
  }
 ],
 "metadata": {
  "kernelspec": {
   "display_name": "Python 3",
   "language": "python",
   "name": "python3"
  },
  "language_info": {
   "codemirror_mode": {
    "name": "ipython",
    "version": 3
   },
   "file_extension": ".py",
   "mimetype": "text/x-python",
   "name": "python",
   "nbconvert_exporter": "python",
   "pygments_lexer": "ipython3",
   "version": "3.8.8"
  }
 },
 "nbformat": 4,
 "nbformat_minor": 5
}
