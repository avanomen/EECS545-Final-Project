{
 "cells": [
  {
   "cell_type": "code",
   "execution_count": 1,
   "id": "5ccb077e",
   "metadata": {},
   "outputs": [],
   "source": [
    "import pandas as pd\n",
    "import os\n",
    "import numpy as np\n",
    "from math import e"
   ]
  },
  {
   "cell_type": "code",
   "execution_count": 2,
   "id": "c6b62480",
   "metadata": {},
   "outputs": [],
   "source": [
    "# load higgs boson dataset\n",
    "higgs_dir = r'F:\\Google Drive\\umich\\eecs545_machine_learning\\final_project\\HIGGS'\n",
    "higgs_df = pd.read_csv(os.path.join(higgs_dir, 'HIGGS.csv'))"
   ]
  },
  {
   "cell_type": "code",
   "execution_count": 3,
   "id": "3f3744e4",
   "metadata": {},
   "outputs": [
    {
     "name": "stdout",
     "output_type": "stream",
     "text": [
      "total num: 10999999\n",
      "(100000, 7)\n",
      "(100000,)\n"
     ]
    }
   ],
   "source": [
    "Y = higgs_df.iloc[:,0]\n",
    "X = higgs_df.iloc[:,-7:]  # just use high level features\n",
    "n = higgs_df.shape[0]\n",
    "print('total num: {}'.format(n))\n",
    "test_n = 500000\n",
    "train_n = 100000\n",
    "\n",
    "x_train_df = X.iloc[0:train_n,:]\n",
    "y_train_df = Y.iloc[0:train_n]\n",
    "print(x_train_df.shape)\n",
    "print(y_train_df.shape)\n",
    "x_test_df = X.iloc[-test_n:, :]\n",
    "y_test_df = Y.iloc[-test_n:]"
   ]
  },
  {
   "cell_type": "code",
   "execution_count": 4,
   "id": "25058b53",
   "metadata": {},
   "outputs": [],
   "source": [
    "# import XGBoost classifier\n",
    "import xgboost"
   ]
  },
  {
   "cell_type": "code",
   "execution_count": null,
   "id": "bdf3e75e",
   "metadata": {
    "scrolled": true
   },
   "outputs": [
    {
     "name": "stdout",
     "output_type": "stream",
     "text": [
      "boosting round 0\n",
      "boosting round 1\n",
      "boosting round 2\n",
      "boosting round 3\n",
      "boosting round 4\n",
      "boosting round 5\n"
     ]
    }
   ],
   "source": [
    "%%time \n",
    "from IPython.core.debugger import set_trace\n",
    "model_higgs = xgboost.XGBoostClassifier()\n",
    "model_higgs.fit(x_train_df, y_train_df, min_leaf=200, boosting_rounds=10, subsample_cols=0.7, min_child_weight=1.2, depth=8)\n"
   ]
  },
  {
   "cell_type": "code",
   "execution_count": null,
   "id": "0d9b5f0e",
   "metadata": {},
   "outputs": [],
   "source": [
    "pred = model_higgs.predict(x_test_df)\n",
    "acc = np.sum(pred == y_test_df.values)/len(pred)\n",
    "print('accuracy = {}'.format(acc))"
   ]
  },
  {
   "cell_type": "code",
   "execution_count": null,
   "id": "d67e12b3",
   "metadata": {},
   "outputs": [],
   "source": [
    "acc = np.sum(pred == y_test_df.values)/len(pred)\n",
    "print('accuracy = {}'.format(acc))\n",
    "# 50000 samples, exact greedy, all features, Wall time: 14h 8min 19s, accuracy = 0.695598\n",
    "# 50000 samples, exact greedy, high-level features, Wall time: 10h 14min 53s, accuracy = 0.694902"
   ]
  },
  {
   "cell_type": "code",
   "execution_count": null,
   "id": "49409113",
   "metadata": {},
   "outputs": [],
   "source": [
    "int(np.floor(6.6))"
   ]
  }
 ],
 "metadata": {
  "kernelspec": {
   "display_name": "Python 3",
   "language": "python",
   "name": "python3"
  },
  "language_info": {
   "codemirror_mode": {
    "name": "ipython",
    "version": 3
   },
   "file_extension": ".py",
   "mimetype": "text/x-python",
   "name": "python",
   "nbconvert_exporter": "python",
   "pygments_lexer": "ipython3",
   "version": "3.8.8"
  }
 },
 "nbformat": 4,
 "nbformat_minor": 5
}
