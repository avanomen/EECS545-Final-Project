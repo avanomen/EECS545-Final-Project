{
 "cells": [
  {
   "cell_type": "code",
   "execution_count": 9,
   "id": "7a70d605",
   "metadata": {},
   "outputs": [],
   "source": [
    "import pandas as pd\n",
    "import os\n",
    "import numpy as np\n",
    "from math import e\n",
    "np.random.seed(0)"
   ]
  },
  {
   "cell_type": "code",
   "execution_count": 10,
   "id": "add07085",
   "metadata": {},
   "outputs": [],
   "source": [
    "# load higgs boson dataset\n",
    "higgs_dir = r'F:\\Google Drive\\umich\\eecs545_machine_learning\\final_project\\HIGGS'\n",
    "higgs_df = pd.read_csv(os.path.join(higgs_dir, 'HIGGS.csv'))"
   ]
  },
  {
   "cell_type": "code",
   "execution_count": 11,
   "id": "a1a17874",
   "metadata": {},
   "outputs": [
    {
     "name": "stdout",
     "output_type": "stream",
     "text": [
      "loading dataset...\n",
      "total num: 10999999\n",
      "train samples: 10000\n",
      "(10000, 7)\n",
      "(10000,)\n"
     ]
    }
   ],
   "source": [
    "test_n = 500000\n",
    "train_n = 10000\n",
    "use_top_features = True\n",
    "\n",
    "Y = higgs_df.iloc[:,0]\n",
    "X = higgs_df.iloc[:,1:]\n",
    "n = higgs_df.shape[0]\n",
    "print('total num: {}'.format(n))\n",
    "print('train samples: {}'.format(train_n))\n",
    "\n",
    "if use_top_features:\n",
    "    x_train_df = X.iloc[0:train_n,-7:]\n",
    "else:\n",
    "    x_train_df = X.iloc[0:train_n,:]\n",
    "y_train_df = Y.iloc[0:train_n]\n",
    "print(x_train_df.shape)\n",
    "print(y_train_df.shape)\n",
    "x_test_df = X.iloc[-test_n:, :]\n",
    "y_test_df = Y.iloc[-test_n:]"
   ]
  },
  {
   "cell_type": "code",
   "execution_count": 22,
   "id": "b17355de",
   "metadata": {},
   "outputs": [
    {
     "name": "stdout",
     "output_type": "stream",
     "text": [
      "total num: 10999999\n",
      "(1000, 7)\n",
      "(1000,)\n"
     ]
    }
   ],
   "source": [
    "Y = higgs_df.iloc[:,0]\n",
    "X = higgs_df.iloc[:,-7:]  # just use high level features\n",
    "n = higgs_df.shape[0]\n",
    "print('total num: {}'.format(n))\n",
    "test_n = 500000\n",
    "train_n = 1000\n",
    "\n",
    "x_train_df = X.iloc[0:train_n,:]\n",
    "y_train_df = Y.iloc[0:train_n]\n",
    "print(x_train_df.shape)\n",
    "print(y_train_df.shape)\n",
    "x_test_df = X.iloc[-test_n:, :]\n",
    "y_test_df = Y.iloc[-test_n:]"
   ]
  },
  {
   "cell_type": "code",
   "execution_count": 14,
   "id": "c4ecb40b",
   "metadata": {},
   "outputs": [],
   "source": [
    "# import XGBoost classifier\n",
    "import xgboost"
   ]
  },
  {
   "cell_type": "code",
   "execution_count": 23,
   "id": "2c632eab",
   "metadata": {
    "scrolled": true
   },
   "outputs": [
    {
     "name": "stdout",
     "output_type": "stream",
     "text": [
      "boosting round 0\n",
      "boosting round 1\n",
      "boosting round 2\n",
      "boosting round 3\n",
      "boosting round 4\n",
      "Wall time: 1min 14s\n"
     ]
    }
   ],
   "source": [
    "%%time \n",
    "from IPython.core.debugger import set_trace\n",
    "model_higgs = xgboost.XGBoostClassifier()\n",
    "model_higgs.fit(x_train_df, y_train_df, min_leaf=5, boosting_rounds=5, depth=5)\n"
   ]
  },
  {
   "cell_type": "code",
   "execution_count": 24,
   "id": "356926d6",
   "metadata": {},
   "outputs": [
    {
     "name": "stdout",
     "output_type": "stream",
     "text": [
      "accuracy = 0.651714\n"
     ]
    }
   ],
   "source": [
    "pred = model_higgs.predict(x_test_df)\n",
    "acc = np.sum(pred == y_test_df.values)/len(pred)\n",
    "print('accuracy = {}'.format(acc))"
   ]
  },
  {
   "cell_type": "code",
   "execution_count": 7,
   "id": "4dac33f4",
   "metadata": {},
   "outputs": [
    {
     "name": "stdout",
     "output_type": "stream",
     "text": [
      "accuracy = 0.679454\n"
     ]
    }
   ],
   "source": [
    "acc = np.sum(pred == y_test_df.values)/len(pred)\n",
    "print('accuracy = {}'.format(acc))\n",
    "# 50000 samples, exact greedy, all features, Wall time: 14h 8min 19s, accuracy = 0.695598\n",
    "# 50000 samples, exact greedy, high-level features, Wall time: 10h 14min 53s, accuracy = 0.694902\n",
    "# 100000 samples, exact greedy, high-level features, min_leaf=200, subsample_cols=0.7, depth=8, Wall time: 1d 22min 51s, 0.698304"
   ]
  },
  {
   "cell_type": "code",
   "execution_count": 8,
   "id": "a8148b38",
   "metadata": {},
   "outputs": [
    {
     "data": {
      "text/plain": [
       "6"
      ]
     },
     "execution_count": 8,
     "metadata": {},
     "output_type": "execute_result"
    }
   ],
   "source": [
    "int(np.floor(6.6))"
   ]
  }
 ],
 "metadata": {
  "kernelspec": {
   "display_name": "Python 3",
   "language": "python",
   "name": "python3"
  },
  "language_info": {
   "codemirror_mode": {
    "name": "ipython",
    "version": 3
   },
   "file_extension": ".py",
   "mimetype": "text/x-python",
   "name": "python",
   "nbconvert_exporter": "python",
   "pygments_lexer": "ipython3",
   "version": "3.8.8"
  }
 },
 "nbformat": 4,
 "nbformat_minor": 5
}
