{
 "cells": [
  {
   "cell_type": "code",
   "execution_count": 1,
   "id": "1281a978",
   "metadata": {},
   "outputs": [],
   "source": [
    "import pandas as pd\n",
    "import numpy as np\n",
    "import xgboost2\n",
    "import pickle as pkl"
   ]
  },
  {
   "cell_type": "code",
   "execution_count": 2,
   "id": "74090207",
   "metadata": {},
   "outputs": [
    {
     "name": "stdout",
     "output_type": "stream",
     "text": [
      "Number of finished trials:  100\n",
      "Best trial:\n",
      "  Value: 0.8265008444649163\n",
      "  Params: \n",
      "    reg: 0.2946302209082853\n",
      "    gamma: 2.525640121911007\n",
      "    feature_sel: 0.7697746203729819\n",
      "    max_depth: 20\n",
      "    min_child_weight: 4.459295408509322\n",
      "    lr: 0.4668075716919234\n",
      "    min_leaf_num: 10\n",
      "    boosting_rounds: 14\n"
     ]
    }
   ],
   "source": [
    "with open('adult_study3.pkl', 'rb') as infile:\n",
    "    study = pkl.load(infile)\n",
    "    \n",
    "print(\"Number of finished trials: \", len(study.trials))\n",
    "print(\"Best trial:\")\n",
    "trial = study.best_trial\n",
    "\n",
    "print(\"  Value: {}\".format(trial.value))\n",
    "print(\"  Params: \")\n",
    "for key, value in trial.params.items():\n",
    "    print(\"    {}: {}\".format(key, value))"
   ]
  },
  {
   "cell_type": "code",
   "execution_count": 39,
   "id": "4ab53bec",
   "metadata": {},
   "outputs": [
    {
     "name": "stdout",
     "output_type": "stream",
     "text": [
      "(26048, 12)\n",
      "(6513, 12)\n",
      "Index(['age', 'workclass', 'education.num', 'marital.status', 'occupation',\n",
      "       'relationship', 'race', 'sex', 'capital.gain', 'capital.loss',\n",
      "       'hours.per.week', 'native.country'],\n",
      "      dtype='object')\n"
     ]
    },
    {
     "data": {
      "text/plain": [
       "[array([ 0,  4, 10,  2,  1,  5,  8,  3,  6, 11,  7,  9], dtype=int64),\n",
       " array([ 0,  2,  8,  5, 10,  4,  3,  9,  1,  7, 11,  6], dtype=int64),\n",
       " array([ 0,  8, 10,  2,  9,  4,  3, 11,  5,  1,  6,  7], dtype=int64)]"
      ]
     },
     "metadata": {},
     "output_type": "display_data"
    },
    {
     "data": {
      "text/plain": [
       "array([ 0,  8,  1,  6,  5,  3, 11,  9,  2,  7,  4, 10], dtype=int64)"
      ]
     },
     "metadata": {},
     "output_type": "display_data"
    },
    {
     "name": "stdout",
     "output_type": "stream",
     "text": [
      "(26048, 2)\n",
      "boosting round 0\n",
      "boosting round 1\n",
      "boosting round 2\n",
      "boosting round 3\n",
      "boosting round 4\n",
      "boosting round 5\n",
      "boosting round 6\n",
      "boosting round 7\n",
      "boosting round 8\n",
      "boosting round 9\n",
      "boosting round 10\n",
      "boosting round 11\n",
      "boosting round 12\n",
      "boosting round 13\n",
      "0.7164133271917703\n",
      "(26048, 4)\n",
      "boosting round 0\n",
      "boosting round 1\n",
      "boosting round 2\n",
      "boosting round 3\n",
      "boosting round 4\n",
      "boosting round 5\n",
      "boosting round 6\n",
      "boosting round 7\n",
      "boosting round 8\n",
      "boosting round 9\n",
      "boosting round 10\n",
      "boosting round 11\n",
      "boosting round 12\n",
      "boosting round 13\n",
      "0.7124213112237064\n",
      "(26048, 6)\n",
      "boosting round 0\n",
      "boosting round 1\n",
      "boosting round 2\n",
      "boosting round 3\n",
      "boosting round 4\n",
      "boosting round 5\n",
      "boosting round 6\n",
      "boosting round 7\n",
      "boosting round 8\n",
      "boosting round 9\n",
      "boosting round 10\n",
      "boosting round 11\n",
      "boosting round 12\n",
      "boosting round 13\n",
      "0.7147243973591278\n",
      "(26048, 8)\n",
      "boosting round 0\n",
      "boosting round 1\n",
      "boosting round 2\n",
      "boosting round 3\n",
      "boosting round 4\n",
      "boosting round 5\n",
      "boosting round 6\n",
      "boosting round 7\n",
      "boosting round 8\n",
      "boosting round 9\n",
      "boosting round 10\n",
      "boosting round 11\n",
      "boosting round 12\n",
      "boosting round 13\n",
      "0.691847075080608\n",
      "(26048, 10)\n",
      "boosting round 0\n",
      "boosting round 1\n",
      "boosting round 2\n",
      "boosting round 3\n",
      "boosting round 4\n",
      "boosting round 5\n",
      "boosting round 6\n",
      "boosting round 7\n",
      "boosting round 8\n",
      "boosting round 9\n",
      "boosting round 10\n",
      "boosting round 11\n",
      "boosting round 12\n",
      "boosting round 13\n",
      "0.7164133271917703\n",
      "(26048, 12)\n",
      "boosting round 0\n",
      "boosting round 1\n",
      "boosting round 2\n",
      "boosting round 3\n",
      "boosting round 4\n",
      "boosting round 5\n",
      "boosting round 6\n",
      "boosting round 7\n",
      "boosting round 8\n",
      "boosting round 9\n",
      "boosting round 10\n",
      "boosting round 11\n",
      "boosting round 12\n",
      "boosting round 13\n",
      "0.7136496238292646\n",
      "Wall time: 9h 18min 58s\n"
     ]
    }
   ],
   "source": [
    "%%time\n",
    "\n",
    "# import dataframes\n",
    "X_train = pd.read_csv('./data/X_train_adult.csv')\n",
    "X_test = pd.read_csv('./data/X_test_adult.csv')\n",
    "y_train = pd.read_csv('./data/y_train_adult.csv')\n",
    "y_test = pd.read_csv('./data/y_test_adult.csv')\n",
    "\n",
    "X_train = X_train.drop(['Unnamed: 0', 'fnlwgt'], axis=1)\n",
    "X_test = X_test.drop(['Unnamed: 0', 'fnlwgt'], axis=1)\n",
    "\n",
    "print(X_train.shape)\n",
    "print(X_test.shape)\n",
    "print(X_train.columns)\n",
    "\n",
    "with open('final_census_model.pkl', 'rb') as infile:\n",
    "    model = pkl.load(infile)\n",
    "    \n",
    "display(model.fe_index_array)\n",
    "\n",
    "n_features = [2,4,6,8,10,12] \n",
    "sorted_features = np.argsort(model.fe_index_array[1])  # change the index to what type of fi\n",
    "display(sorted_features)\n",
    "\n",
    "train_data = []\n",
    "for idx, each in enumerate(n_features):\n",
    "    train_data.append(X_train.iloc[:, sorted_features[:each]].values)\n",
    "\n",
    "models = [None for i in range(len(train_data))]\n",
    "accuracies = []\n",
    "for i in range(len(train_data)):\n",
    "    print(train_data[i].shape)\n",
    "    model = xgboost2.XGBoostClassifier()\n",
    "    model.fit(train_data[i], y_train['income'].values,\n",
    "              boosting_rounds=14, \n",
    "              feature_sel=0.77, \n",
    "              min_num_leaf=10, \n",
    "              min_child_weight=4.46, \n",
    "              max_depth=20, \n",
    "              lr=0.47, \n",
    "              reg=0.29, \n",
    "              gamma=2.53)\n",
    "    pred = model.predict(X_test.values)\n",
    "    accuracies.append((y_test['income'].values == pred).sum()/len(pred))\n",
    "    print(accuracies[i])\n",
    "    models[i] = model\n"
   ]
  },
  {
   "cell_type": "code",
   "execution_count": 40,
   "id": "6121c624",
   "metadata": {},
   "outputs": [
    {
     "data": {
      "text/plain": [
       "[0.7164133271917703,\n",
       " 0.7124213112237064,\n",
       " 0.7147243973591278,\n",
       " 0.691847075080608,\n",
       " 0.7164133271917703,\n",
       " 0.7136496238292646]"
      ]
     },
     "execution_count": 40,
     "metadata": {},
     "output_type": "execute_result"
    }
   ],
   "source": [
    "accuracies"
   ]
  }
 ],
 "metadata": {
  "kernelspec": {
   "display_name": "Python 3",
   "language": "python",
   "name": "python3"
  },
  "language_info": {
   "codemirror_mode": {
    "name": "ipython",
    "version": 3
   },
   "file_extension": ".py",
   "mimetype": "text/x-python",
   "name": "python",
   "nbconvert_exporter": "python",
   "pygments_lexer": "ipython3",
   "version": "3.8.8"
  }
 },
 "nbformat": 4,
 "nbformat_minor": 5
}
